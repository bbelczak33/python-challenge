{
 "cells": [
  {
   "cell_type": "code",
   "execution_count": 214,
   "id": "2877218e-0f73-4b99-b4ed-2e736e9a5f31",
   "metadata": {
    "tags": []
   },
   "outputs": [
    {
     "name": "stdout",
     "output_type": "stream",
     "text": [
      "Total Votes: 369711\n",
      "3.139% (11606)\n",
      "{'Charles Casper Stockham': '3', 'Diana DeGette': '.', 'Raymon Anthony Doane': '1'}\n",
      "Winner: Diana DeGette\n"
     ]
    }
   ],
   "source": [
    "import os\n",
    "import csv\n",
    "\n",
    "# Set path for file\n",
    "csvpath = os.path.join(\"Resources/election_data.csv\")\n",
    "\n",
    "# Places to store data\n",
    "candidate_votes = {}\n",
    "vote_percentage = []\n",
    "candidate_names = []\n",
    "candidate_v = []\n",
    "final_candidate = {}\n",
    "candidates = {}\n",
    "pnv = []\n",
    "total_votes = 0\n",
    "\n",
    "# Open the CSV using the UTF-8 encoding\n",
    "with open(csvpath, encoding='UTF-8') as csvfile:\n",
    "    csv_pypoll = csv.reader(csvfile, delimiter=\",\")\n",
    "    header = next(csv_pypoll)\n",
    "    \n",
    "    for row in csv_pypoll:\n",
    "        # Find candidate vote counts\n",
    "        name = row[2]\n",
    "        candidate_votes[name] = candidate_votes.get(name, 0) + 1\n",
    "        \n",
    "        # Count the total votes cast\n",
    "        total_votes = total_votes + 1\n",
    "        \n",
    "\n",
    "for key, value in candidate_votes.items():\n",
    "    # Create string of candidate names\n",
    "    i = str(key)\n",
    "    candidate_names.append(i)\n",
    "    \n",
    "    #Create string of candidate vote totals\n",
    "    j = int(value)\n",
    "    candidate_v.append(j)\n",
    "    \n",
    "    # Find and create string of percentage of votes\n",
    "    percent = round(value/total_votes * 100, 3)\n",
    "    vote_percentage.append(f'{float(percent)}%')\n",
    "    \n",
    "#Combine percentages with vote totals\n",
    "for i in range(3):\n",
    "    pnv = str(vote_percentage[i] + f' ({candidate_v[i]})')\n",
    "    \n",
    "#Create dictionary containing all final values\n",
    "candidates = dict(zip(candidate_names, pnv))\n",
    "    \n",
    "# Create new dictionary with candidate names and their votes  \n",
    "final_candidate = dict(zip(candidate_names, candidate_v))\n",
    "\n",
    "#Create object with value of winning number of votes\n",
    "max_votes = max(candidate_v)\n",
    "\n",
    "for key, value in final_candidate.items():\n",
    "    #Create lists of candidates and their correspondin number of votes\n",
    "    cand_nams = list(final_candidate.keys())\n",
    "    cand_vots = list(final_candidate.values())\n",
    "    \n",
    "    #Identify the index of the winning candidate and assign winning name to object\n",
    "    win_po = cand_vots.index(max_votes)\n",
    "    winner = cand_nams[win_po]\n",
    "\n",
    "#Print total votes\n",
    "print(\"Total Votes:\", total_votes)     \n",
    "\n",
    "print(pnv)\n",
    "print(candidates)\n",
    "\n",
    "#Print name of winner\n",
    "print(\"Winner:\", winner)"
   ]
  },
  {
   "cell_type": "code",
   "execution_count": null,
   "id": "bb6607a4-88bd-453e-8867-53b1f7a585e8",
   "metadata": {
    "tags": []
   },
   "outputs": [],
   "source": []
  }
 ],
 "metadata": {
  "kernelspec": {
   "display_name": "Python 3 (ipykernel)",
   "language": "python",
   "name": "python3"
  },
  "language_info": {
   "codemirror_mode": {
    "name": "ipython",
    "version": 3
   },
   "file_extension": ".py",
   "mimetype": "text/x-python",
   "name": "python",
   "nbconvert_exporter": "python",
   "pygments_lexer": "ipython3",
   "version": "3.11.4"
  }
 },
 "nbformat": 4,
 "nbformat_minor": 5
}
