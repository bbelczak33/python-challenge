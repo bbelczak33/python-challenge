{
 "cells": [
  {
   "cell_type": "code",
   "execution_count": 1,
   "id": "f5e06f59-003b-4400-bf45-b472c557ed25",
   "metadata": {
    "tags": []
   },
   "outputs": [],
   "source": [
    "#Importing pandas\n",
    "import pandas as pd\n",
    "from pathlib import Path"
   ]
  },
  {
   "cell_type": "code",
   "execution_count": 3,
   "id": "9407a3ca-2f7e-47e2-98e1-510407b28618",
   "metadata": {
    "tags": []
   },
   "outputs": [
    {
     "data": {
      "text/html": [
       "<div>\n",
       "<style scoped>\n",
       "    .dataframe tbody tr th:only-of-type {\n",
       "        vertical-align: middle;\n",
       "    }\n",
       "\n",
       "    .dataframe tbody tr th {\n",
       "        vertical-align: top;\n",
       "    }\n",
       "\n",
       "    .dataframe thead th {\n",
       "        text-align: right;\n",
       "    }\n",
       "</style>\n",
       "<table border=\"1\" class=\"dataframe\">\n",
       "  <thead>\n",
       "    <tr style=\"text-align: right;\">\n",
       "      <th></th>\n",
       "      <th>Date</th>\n",
       "      <th>Profit/Losses</th>\n",
       "    </tr>\n",
       "  </thead>\n",
       "  <tbody>\n",
       "    <tr>\n",
       "      <th>0</th>\n",
       "      <td>Jan-10</td>\n",
       "      <td>1088983</td>\n",
       "    </tr>\n",
       "    <tr>\n",
       "      <th>1</th>\n",
       "      <td>Feb-10</td>\n",
       "      <td>-354534</td>\n",
       "    </tr>\n",
       "    <tr>\n",
       "      <th>2</th>\n",
       "      <td>Mar-10</td>\n",
       "      <td>276622</td>\n",
       "    </tr>\n",
       "    <tr>\n",
       "      <th>3</th>\n",
       "      <td>Apr-10</td>\n",
       "      <td>-728133</td>\n",
       "    </tr>\n",
       "    <tr>\n",
       "      <th>4</th>\n",
       "      <td>May-10</td>\n",
       "      <td>852993</td>\n",
       "    </tr>\n",
       "  </tbody>\n",
       "</table>\n",
       "</div>"
      ],
      "text/plain": [
       "     Date  Profit/Losses\n",
       "0  Jan-10        1088983\n",
       "1  Feb-10        -354534\n",
       "2  Mar-10         276622\n",
       "3  Apr-10        -728133\n",
       "4  May-10         852993"
      ]
     },
     "execution_count": 3,
     "metadata": {},
     "output_type": "execute_result"
    }
   ],
   "source": [
    "#Read csv\n",
    "pybank_csv = Path(\"Resources/budget_data.csv\")\n",
    "\n",
    "#Create dataframe\n",
    "pybank_df = pd.read_csv(pybank_csv)\n",
    "pybank_df.head()"
   ]
  },
  {
   "cell_type": "code",
   "execution_count": 111,
   "id": "1b382871-37d8-472d-86de-18fa6373bb63",
   "metadata": {
    "tags": []
   },
   "outputs": [
    {
     "name": "stdout",
     "output_type": "stream",
     "text": [
      "Total Months: 86\n",
      "Total: $ 22564198\n",
      "Average Change: $ -5667.94\n",
      "Greatest Increase in Profits: Aug-16 $ 1862002\n",
      "Greatest Decrease in Profits: Feb-14 $ -1825558\n"
     ]
    }
   ],
   "source": [
    "#Total number of months\n",
    "total_months = pybank_df.shape[0]\n",
    "print(\"Total Months:\", total_months)\n",
    "\n",
    "#Total changes\n",
    "profit_losses = pybank_df[\"Profit/Losses\"].tolist()\n",
    "sum_pybank = sum(profit_losses)\n",
    "print(\"Total: $\", sum_pybank)\n",
    "\n",
    "#Average change amount\n",
    "i = int\n",
    "pl_changes = [0] * 86\n",
    "for i in range(1, 85):\n",
    "    pl_changes[i] = profit_losses[i] - profit_losses[i - 1]\n",
    "\n",
    "avg_plchange = round(sum(pl_changes)/(total_months - 1), 2)\n",
    "\n",
    "print(\"Average Change: $\", avg_plchange)\n",
    "\n",
    "changes_df = pd.DataFrame({\"Change\": pl_changes})\n",
    "\n",
    "dates_df = pybank_df[\"Date\"]\n",
    "\n",
    "pl = [dates_df, changes_df]\n",
    "\n",
    "pl_df = pd.concat(pl, axis = 1)\n",
    "\n",
    "#Greatest increase in profits\n",
    "max_index = pl_df[\"Change\"].idxmax()\n",
    "\n",
    "print(\"Greatest Increase in Profits:\", pl_df[\"Date\"][max_index], \"$\", max(pl_df[\"Change\"]))\n",
    "\n",
    "#Greatest decrease in profits\n",
    "min_index = pl_df[\"Change\"].idxmin()\n",
    "\n",
    "print(\"Greatest Decrease in Profits:\", pl_df[\"Date\"][min_index], \"$\", min(pl_df[\"Change\"]))"
   ]
  },
  {
   "cell_type": "code",
   "execution_count": null,
   "id": "bceeb7c3-3bee-4d60-a940-4ebbb9f08036",
   "metadata": {},
   "outputs": [],
   "source": []
  }
 ],
 "metadata": {
  "kernelspec": {
   "display_name": "Python 3 (ipykernel)",
   "language": "python",
   "name": "python3"
  },
  "language_info": {
   "codemirror_mode": {
    "name": "ipython",
    "version": 3
   },
   "file_extension": ".py",
   "mimetype": "text/x-python",
   "name": "python",
   "nbconvert_exporter": "python",
   "pygments_lexer": "ipython3",
   "version": "3.11.4"
  }
 },
 "nbformat": 4,
 "nbformat_minor": 5
}
