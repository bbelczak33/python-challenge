{
 "cells": [
  {
   "cell_type": "code",
   "execution_count": 25,
   "id": "9407a3ca-2f7e-47e2-98e1-510407b28618",
   "metadata": {
    "tags": []
   },
   "outputs": [
    {
     "ename": "TypeError",
     "evalue": "list indices must be integers or slices, not str",
     "output_type": "error",
     "traceback": [
      "\u001b[0;31m---------------------------------------------------------------------------\u001b[0m",
      "\u001b[0;31mTypeError\u001b[0m                                 Traceback (most recent call last)",
      "Cell \u001b[0;32mIn[25], line 32\u001b[0m\n\u001b[1;32m     30\u001b[0m         value \u001b[38;5;241m=\u001b[39m \u001b[38;5;28mint\u001b[39m(i)\n\u001b[1;32m     31\u001b[0m         pl_int\u001b[38;5;241m.\u001b[39mappend(value)\n\u001b[0;32m---> 32\u001b[0m         total_profit \u001b[38;5;241m=\u001b[39m pl_int[i] \u001b[38;5;241m+\u001b[39m pl_int[i \u001b[38;5;241m+\u001b[39m \u001b[38;5;241m1\u001b[39m]\n\u001b[1;32m     34\u001b[0m \u001b[38;5;28mprint\u001b[39m(\u001b[38;5;28msum\u001b[39m(pl_int))\n\u001b[1;32m     35\u001b[0m \u001b[38;5;28mprint\u001b[39m(\u001b[38;5;124m\"\u001b[39m\u001b[38;5;124mTotal Months:\u001b[39m\u001b[38;5;124m\"\u001b[39m, total_months)\n",
      "\u001b[0;31mTypeError\u001b[0m: list indices must be integers or slices, not str"
     ]
    }
   ],
   "source": [
    "import os\n",
    "import csv\n",
    "\n",
    "# Set path for file\n",
    "csvpath = os.path.join(\"Resources/budget_data.csv\")\n",
    "\n",
    "# Places to store data\n",
    "dates = []\n",
    "pl = []\n",
    "pl_int = []\n",
    "total_months = 0\n",
    "pl_change = [0] * 86\n",
    "\n",
    "# Open the CSV using the UTF-8 encoding\n",
    "with open(csvpath, encoding='UTF-8') as csvfile:\n",
    "    csv_pybank = csv.reader(csvfile, delimiter=\",\")\n",
    "    header = next(csv_pybank)\n",
    "\n",
    "    for row in csv_pybank:\n",
    "        # Add dates\n",
    "        dates.append(row[0])\n",
    "        \n",
    "        # Add profits/losses\n",
    "        pl.append(row[1])\n",
    "        \n",
    "        # Calculate total months\n",
    "        total_months = total_months + 1\n",
    "        \n",
    "    for i in pl:\n",
    "        value = int(i)\n",
    "        pl_int.append(value)\n",
    "        \n",
    "print(\"Total Months:\", total_months)\n",
    "print(\"Total sum(pl_int))"
   ]
  },
  {
   "cell_type": "code",
   "execution_count": 8,
   "id": "1b382871-37d8-472d-86de-18fa6373bb63",
   "metadata": {
    "tags": []
   },
   "outputs": [
    {
     "ename": "NameError",
     "evalue": "name 'pybank_df' is not defined",
     "output_type": "error",
     "traceback": [
      "\u001b[0;31m---------------------------------------------------------------------------\u001b[0m",
      "\u001b[0;31mNameError\u001b[0m                                 Traceback (most recent call last)",
      "Cell \u001b[0;32mIn[8], line 2\u001b[0m\n\u001b[1;32m      1\u001b[0m \u001b[38;5;66;03m#Total number of months\u001b[39;00m\n\u001b[0;32m----> 2\u001b[0m total_months \u001b[38;5;241m=\u001b[39m pybank_df\u001b[38;5;241m.\u001b[39mshape[\u001b[38;5;241m0\u001b[39m]\n\u001b[1;32m      3\u001b[0m \u001b[38;5;28mprint\u001b[39m(\u001b[38;5;124m\"\u001b[39m\u001b[38;5;124mTotal Months:\u001b[39m\u001b[38;5;124m\"\u001b[39m, total_months)\n\u001b[1;32m      5\u001b[0m \u001b[38;5;66;03m#Total changes\u001b[39;00m\n",
      "\u001b[0;31mNameError\u001b[0m: name 'pybank_df' is not defined"
     ]
    }
   ],
   "source": [
    "#Total number of months\n",
    "total_months = pybank_df.shape[0]\n",
    "print(\"Total Months:\", total_months)\n",
    "\n",
    "#Total changes\n",
    "profit_losses = pybank_df[\"Profit/Losses\"].tolist()\n",
    "sum_pybank = sum(profit_losses)\n",
    "print(\"Total: $\", sum_pybank)\n",
    "\n",
    "#Average change amount\n",
    "i = int\n",
    "pl_changes = [0] * 86\n",
    "for i in range(1, 85):\n",
    "    pl_changes[i] = profit_losses[i] - profit_losses[i - 1]\n",
    "\n",
    "avg_plchange = round(sum(pl_changes)/(total_months - 1), 2)\n",
    "\n",
    "print(\"Average Change: $\", avg_plchange)\n",
    "\n",
    "changes_df = pd.DataFrame({\"Change\": pl_changes})\n",
    "\n",
    "dates_df = pybank_df[\"Date\"]\n",
    "\n",
    "pl = [dates_df, changes_df]\n",
    "\n",
    "pl_df = pd.concat(pl, axis = 1)\n",
    "\n",
    "#Greatest increase in profits\n",
    "max_index = pl_df[\"Change\"].idxmax()\n",
    "\n",
    "print(\"Greatest Increase in Profits:\", pl_df[\"Date\"][max_index], \"$\", max(pl_df[\"Change\"]))\n",
    "\n",
    "#Greatest decrease in profits\n",
    "min_index = pl_df[\"Change\"].idxmin()\n",
    "\n",
    "print(\"Greatest Decrease in Profits:\", pl_df[\"Date\"][min_index], \"$\", min(pl_df[\"Change\"]))"
   ]
  },
  {
   "cell_type": "code",
   "execution_count": null,
   "id": "bceeb7c3-3bee-4d60-a940-4ebbb9f08036",
   "metadata": {},
   "outputs": [],
   "source": []
  }
 ],
 "metadata": {
  "kernelspec": {
   "display_name": "Python 3 (ipykernel)",
   "language": "python",
   "name": "python3"
  },
  "language_info": {
   "codemirror_mode": {
    "name": "ipython",
    "version": 3
   },
   "file_extension": ".py",
   "mimetype": "text/x-python",
   "name": "python",
   "nbconvert_exporter": "python",
   "pygments_lexer": "ipython3",
   "version": "3.11.4"
  }
 },
 "nbformat": 4,
 "nbformat_minor": 5
}
