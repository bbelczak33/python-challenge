{
 "cells": [
  {
   "cell_type": "code",
   "execution_count": 47,
   "id": "2877218e-0f73-4b99-b4ed-2e736e9a5f31",
   "metadata": {
    "tags": []
   },
   "outputs": [
    {
     "name": "stdout",
     "output_type": "stream",
     "text": [
      "Total Votes: 369711\n",
      "{'Charles Casper Stockham': 85213, 'Diana DeGette': 272892, 'Raymon Anthony Doane': 11606}\n"
     ]
    }
   ],
   "source": [
    "import os\n",
    "import csv\n",
    "\n",
    "# Set path for file\n",
    "csvpath = os.path.join(\"Resources/election_data.csv\")\n",
    "\n",
    "# Places to store data\n",
    "candidate_votes = {}\n",
    "vote_percentage = []\n",
    "total_votes = 0\n",
    "\n",
    "# Open the CSV using the UTF-8 encoding\n",
    "with open(csvpath, encoding='UTF-8') as csvfile:\n",
    "    csv_pypoll = csv.reader(csvfile, delimiter=\",\")\n",
    "    header = next(csv_pypoll)\n",
    "    \n",
    "    for row in csv_pypoll:\n",
    "        # Find candidate vote counts\n",
    "        name = row[2]\n",
    "        candidate_votes[name] = candidate_votes.get(name, 0) + 1\n",
    "        \n",
    "        # Count the total votes cast\n",
    "        total_votes = total_votes + 1\n",
    "        \n",
    "        # Find percentage of votes\n",
    "        #percent = round(int(str(candidate_votes.values())) / total_votes * 100, 3)\n",
    "        #vote_percentage.append(str(percent) + \"%\")\n",
    "        \n",
    "print(\"Total Votes:\", total_votes)\n",
    "print(candidate_votes)"
   ]
  },
  {
   "cell_type": "code",
   "execution_count": null,
   "id": "bb6607a4-88bd-453e-8867-53b1f7a585e8",
   "metadata": {
    "tags": []
   },
   "outputs": [],
   "source": [
    "#Total number of votes\n",
    "total_votes = pypoll_df.shape[0]\n",
    "print(\"Total Votes:\", total_votes)\n",
    "\n",
    "#Complete list of candidates\n",
    "i = int\n",
    "j = int\n",
    "candidates = []\n",
    "votes = []\n",
    "for i in range(2):\n",
    "    for j in range(total_votes - 1):\n",
    "        if \n",
    "    \n",
    "\n",
    "#Percentage of votes for each candidate\n",
    "\n",
    "#Total numbers of votes for each candidate\n",
    "\n",
    "#Winner based on popular vote"
   ]
  }
 ],
 "metadata": {
  "kernelspec": {
   "display_name": "Python 3 (ipykernel)",
   "language": "python",
   "name": "python3"
  },
  "language_info": {
   "codemirror_mode": {
    "name": "ipython",
    "version": 3
   },
   "file_extension": ".py",
   "mimetype": "text/x-python",
   "name": "python",
   "nbconvert_exporter": "python",
   "pygments_lexer": "ipython3",
   "version": "3.11.4"
  }
 },
 "nbformat": 4,
 "nbformat_minor": 5
}
