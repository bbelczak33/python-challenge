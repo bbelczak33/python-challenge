{
 "cells": [
  {
   "cell_type": "code",
   "execution_count": 2,
   "id": "71466064-671f-4238-9675-14d7044bb9d3",
   "metadata": {
    "tags": []
   },
   "outputs": [
    {
     "name": "stdout",
     "output_type": "stream",
     "text": [
      "Financial Analysis\n",
      "----------------\n",
      "Total Months: 86\n",
      "Total Profit: $22564198\n",
      "Average Change: $-8311.11\n",
      "Greatest Increase in Profits: Aug-16 ($1862002)\n",
      "Greatest Decrease in Profits: Feb-14 ($-1825558)\n",
      "\n"
     ]
    }
   ],
   "source": [
    "import os\n",
    "import csv\n",
    "\n",
    "# Set path for file\n",
    "csvpath = os.path.join(\"Resources/budget_data.csv\")\n",
    "txtpath = os.path.join(\"analysis/budget_analysis.txt\")\n",
    "\n",
    "# Places to store data\n",
    "dates = []\n",
    "pl = []\n",
    "pl_int = []\n",
    "total_months = 0\n",
    "pl_change = []\n",
    "\n",
    "# Open the CSV using the UTF-8 encoding\n",
    "with open(csvpath, encoding='UTF-8') as csvfile:\n",
    "    csv_pybank = csv.reader(csvfile, delimiter=\",\")\n",
    "    header = next(csv_pybank)\n",
    "\n",
    "    for row in csv_pybank:\n",
    "        # Add dates\n",
    "        dates.append(row[0])\n",
    "        \n",
    "        # Add profits/losses\n",
    "        pl.append(row[1])\n",
    "        \n",
    "        # Calculate total months\n",
    "        total_months = total_months + 1\n",
    "        \n",
    "    for i in pl:\n",
    "        # Convert pl into integers\n",
    "        value = int(i)\n",
    "        pl_int.append(value)\n",
    "        \n",
    "    for i in range(1, len(pl_int)):\n",
    "        # Create list of changes in profit\n",
    "        value = pl_int[i] - pl_int[i - 1]\n",
    "        pl_change.append(value)\n",
    "\n",
    "# Create objects for average, max, and min change and their dates\n",
    "avg_change = sum(pl_change)/(total_months - 1)\n",
    "max_change = max(pl_change)\n",
    "min_change = min(pl_change)\n",
    "date_max = dates[pl_change.index(max(pl_change)) + 1]\n",
    "date_min = dates[pl_change.index(min(pl_change)) + 1]\n",
    "\n",
    "# Create text file\n",
    "with open(txtpath, 'w') as txtfile:\n",
    "\n",
    "\n",
    "    output = (\n",
    "        f'Financial Analysis\\n'\n",
    "        f'----------------\\n'\n",
    "        f'Total Months: {total_months}\\n'\n",
    "        f'Total Profit: ${sum(pl_int)}\\n'\n",
    "        f'Average Change: ${avg_change:.2f}\\n'\n",
    "        f'Greatest Increase in Profits: {date_max} (${max_change})\\n'\n",
    "        f'Greatest Decrease in Profits: {date_min} (${min_change})\\n'\n",
    "    )\n",
    "    print(output)\n",
    "    txtfile.write(output)"
   ]
  },
  {
   "cell_type": "code",
   "execution_count": null,
   "id": "5b3f66a0-cdbb-4ea9-9933-451550f12f39",
   "metadata": {},
   "outputs": [],
   "source": []
  }
 ],
 "metadata": {
  "kernelspec": {
   "display_name": "Python 3 (ipykernel)",
   "language": "python",
   "name": "python3"
  },
  "language_info": {
   "codemirror_mode": {
    "name": "ipython",
    "version": 3
   },
   "file_extension": ".py",
   "mimetype": "text/x-python",
   "name": "python",
   "nbconvert_exporter": "python",
   "pygments_lexer": "ipython3",
   "version": "3.11.4"
  }
 },
 "nbformat": 4,
 "nbformat_minor": 5
}
