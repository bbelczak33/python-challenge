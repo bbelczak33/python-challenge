{
 "cells": [
  {
   "cell_type": "code",
   "execution_count": 70,
   "id": "9407a3ca-2f7e-47e2-98e1-510407b28618",
   "metadata": {
    "tags": []
   },
   "outputs": [
    {
     "name": "stdout",
     "output_type": "stream",
     "text": [
      "Total Months: 86\n",
      "Total Profit: $22564198\n",
      "Average Change: $-8311.11\n",
      "Greatest Increase in Profits: Aug-16 ($1862002)\n",
      "Greatest Decrease in Profits: Feb-14 ($-1825558)\n"
     ]
    }
   ],
   "source": [
    "import os\n",
    "import csv\n",
    "\n",
    "# Set path for file\n",
    "csvpath = os.path.join(\"Resources/budget_data.csv\")\n",
    "\n",
    "# Places to store data\n",
    "dates = []\n",
    "pl = []\n",
    "pl_int = []\n",
    "total_months = 0\n",
    "pl_change = []\n",
    "\n",
    "# Open the CSV using the UTF-8 encoding\n",
    "with open(csvpath, encoding='UTF-8') as csvfile:\n",
    "    csv_pybank = csv.reader(csvfile, delimiter=\",\")\n",
    "    header = next(csv_pybank)\n",
    "\n",
    "    for row in csv_pybank:\n",
    "        # Add dates\n",
    "        dates.append(row[0])\n",
    "        \n",
    "        # Add profits/losses\n",
    "        pl.append(row[1])\n",
    "        \n",
    "        # Calculate total months\n",
    "        total_months = total_months + 1\n",
    "        \n",
    "    for i in pl:\n",
    "        # Convert pl into integers\n",
    "        value = int(i)\n",
    "        pl_int.append(value)\n",
    "        \n",
    "    for i in range(1, len(pl_int)):\n",
    "        # Create list of changes in profit\n",
    "        value = pl_int[i] - pl_int[i - 1]\n",
    "        pl_change.append(value)\n",
    "\n",
    "# Create objects for max and min change dates\n",
    "date_max = dates[pl_change.index(max(pl_change)) + 1]\n",
    "date_min = dates[pl_change.index(min(pl_change)) + 1]\n",
    "        \n",
    "# Print total months\n",
    "print(\"Total Months:\", total_months)\n",
    "\n",
    "# Find and print the total profit\n",
    "print(\"Total Profit:\", f'${sum(pl_int)}')\n",
    "\n",
    "# Find and print the average change in profit\n",
    "print(\"Average Change:\", f'${round(sum(pl_change)/(total_months - 1), 2)}')\n",
    "\n",
    "# Find and print the greatest increase in profit and its corresponding date\n",
    "print(\"Greatest Increase in Profits:\", date_max, f'(${max(pl_change)})')\n",
    "\n",
    "# Find and print the greatest decrease in profit and its corresponding date\n",
    "print(\"Greatest Decrease in Profits:\", date_min, f'(${min(pl_change)})')"
   ]
  },
  {
   "cell_type": "code",
   "execution_count": 73,
   "id": "1b382871-37d8-472d-86de-18fa6373bb63",
   "metadata": {
    "tags": []
   },
   "outputs": [
    {
     "ename": "AttributeError",
     "evalue": "module 'csv' has no attribute 'write'",
     "output_type": "error",
     "traceback": [
      "\u001b[0;31m---------------------------------------------------------------------------\u001b[0m",
      "\u001b[0;31mAttributeError\u001b[0m                            Traceback (most recent call last)",
      "Cell \u001b[0;32mIn[73], line 16\u001b[0m\n\u001b[1;32m     14\u001b[0m \u001b[38;5;66;03m# Open the CSV using the UTF-8 encoding\u001b[39;00m\n\u001b[1;32m     15\u001b[0m \u001b[38;5;28;01mwith\u001b[39;00m \u001b[38;5;28mopen\u001b[39m(csvpath, encoding\u001b[38;5;241m=\u001b[39m\u001b[38;5;124m'\u001b[39m\u001b[38;5;124mUTF-8\u001b[39m\u001b[38;5;124m'\u001b[39m) \u001b[38;5;28;01mas\u001b[39;00m csvfile:\n\u001b[0;32m---> 16\u001b[0m     csv_pybank \u001b[38;5;241m=\u001b[39m csv\u001b[38;5;241m.\u001b[39mwrite(csvfile, delimiter\u001b[38;5;241m=\u001b[39m\u001b[38;5;124m\"\u001b[39m\u001b[38;5;124m,\u001b[39m\u001b[38;5;124m\"\u001b[39m)\n\u001b[1;32m     17\u001b[0m     header \u001b[38;5;241m=\u001b[39m \u001b[38;5;28mnext\u001b[39m(csv_pybank)\n\u001b[1;32m     19\u001b[0m     \u001b[38;5;28;01mfor\u001b[39;00m row \u001b[38;5;129;01min\u001b[39;00m csv_pybank:\n\u001b[1;32m     20\u001b[0m         \u001b[38;5;66;03m# Add dates\u001b[39;00m\n",
      "\u001b[0;31mAttributeError\u001b[0m: module 'csv' has no attribute 'write'"
     ]
    }
   ],
   "source": [
    "import os\n",
    "import csv\n",
    "\n",
    "# Set path for file\n",
    "csvpath = os.path.join(\"Resources/budget_data.csv\")\n",
    "\n",
    "# Places to store data\n",
    "dates = []\n",
    "pl = []\n",
    "pl_int = []\n",
    "total_months = 0\n",
    "pl_change = []\n",
    "\n",
    "# Open the CSV using the UTF-8 encoding\n",
    "with open(csvpath, encoding='UTF-8') as csvfile:\n",
    "    csv_pybank = csv.write(csvfile, delimiter=\",\")\n",
    "    header = next(csv_pybank)\n",
    "\n",
    "    for row in csv_pybank:\n",
    "        # Add dates\n",
    "        dates.append(row[0])\n",
    "        \n",
    "        # Add profits/losses\n",
    "        pl.append(row[1])\n",
    "        \n",
    "        # Calculate total months\n",
    "        total_months = total_months + 1\n",
    "        \n",
    "    for i in pl:\n",
    "        # Convert pl into integers\n",
    "        value = int(i)\n",
    "        pl_int.append(value)\n",
    "        \n",
    "    for i in range(1, len(pl_int)):\n",
    "        # Create list of changes in profit\n",
    "        value = pl_int[i] - pl_int[i - 1]\n",
    "        pl_change.append(value)\n",
    "\n",
    "# Create objects for max and min change dates\n",
    "date_max = dates[pl_change.index(max(pl_change)) + 1]\n",
    "date_min = dates[pl_change.index(min(pl_change)) + 1]\n",
    "        \n",
    "# Print total months\n",
    "print(\"Total Months:\", total_months)\n",
    "\n",
    "# Find and print the total profit\n",
    "print(\"Total Profit:\", f'${sum(pl_int)}')\n",
    "\n",
    "# Find and print the average change in profit\n",
    "print(\"Average Change:\", f'${round(sum(pl_change)/(total_months - 1), 2)}')\n",
    "\n",
    "# Find and print the greatest increase in profit and its corresponding date\n",
    "print(\"Greatest Increase in Profits:\", date_max, f'(${max(pl_change)})')\n",
    "\n",
    "# Find and print the greatest decrease in profit and its corresponding date\n",
    "print(\"Greatest Decrease in Profits:\", date_min, f'(${min(pl_change)})')"
   ]
  },
  {
   "cell_type": "code",
   "execution_count": null,
   "id": "bceeb7c3-3bee-4d60-a940-4ebbb9f08036",
   "metadata": {},
   "outputs": [],
   "source": []
  }
 ],
 "metadata": {
  "kernelspec": {
   "display_name": "Python 3 (ipykernel)",
   "language": "python",
   "name": "python3"
  },
  "language_info": {
   "codemirror_mode": {
    "name": "ipython",
    "version": 3
   },
   "file_extension": ".py",
   "mimetype": "text/x-python",
   "name": "python",
   "nbconvert_exporter": "python",
   "pygments_lexer": "ipython3",
   "version": "3.11.4"
  }
 },
 "nbformat": 4,
 "nbformat_minor": 5
}
